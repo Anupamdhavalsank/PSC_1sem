{
 "cells": [
  {
   "cell_type": "code",
   "execution_count": 1,
   "id": "d63ba524-3deb-4bf7-9240-9021c3af54ed",
   "metadata": {},
   "outputs": [],
   "source": [
    "# Try to extract data from index 1to"
   ]
  },
  {
   "cell_type": "code",
   "execution_count": 4,
   "id": "8d9dadb4-c4de-4c2e-854a-08b192403dc1",
   "metadata": {},
   "outputs": [],
   "source": [
    "s= \"this is my first python programming\" "
   ]
  },
  {
   "cell_type": "code",
   "execution_count": 5,
   "id": "632417f1-846d-4ead-b357-e8a71c0c4162",
   "metadata": {},
   "outputs": [
    {
     "data": {
      "text/plain": [
       "'h   r tnrrmg'"
      ]
     },
     "execution_count": 5,
     "metadata": {},
     "output_type": "execute_result"
    }
   ],
   "source": [
    "s[1:300:3 ]"
   ]
  },
  {
   "cell_type": "code",
   "execution_count": 6,
   "id": "e5fcb266-0d60-4ff5-ae22-2cbd8d2c8859",
   "metadata": {},
   "outputs": [],
   "source": [
    "#02 try to reverse a string without using "
   ]
  },
  {
   "cell_type": "code",
   "execution_count": 7,
   "id": "d5d91ba9-44d6-42cd-8cf3-98dd63bd650d",
   "metadata": {},
   "outputs": [
    {
     "data": {
      "text/plain": [
       "'gnimmargorp nohtyp tsrif ym si siht'"
      ]
     },
     "execution_count": 7,
     "metadata": {},
     "output_type": "execute_result"
    }
   ],
   "source": [
    "s[::-1]"
   ]
  },
  {
   "cell_type": "code",
   "execution_count": 9,
   "id": "c366f966-c566-45fd-b4cb-242b4b472554",
   "metadata": {},
   "outputs": [],
   "source": [
    " #03 Try to split a string after conversion of entire string in uppercase"
   ]
  },
  {
   "cell_type": "code",
   "execution_count": 13,
   "id": "ff5baecf-5a41-4f06-829f-41b0ce2c70e1",
   "metadata": {},
   "outputs": [
    {
     "data": {
      "text/plain": [
       "['THIS', 'IS', 'MY', 'FIRST', 'PYTHON', 'PROGRAMMING']"
      ]
     },
     "execution_count": 13,
     "metadata": {},
     "output_type": "execute_result"
    }
   ],
   "source": [
    "s1 = s.upper()\n",
    "s1.split()"
   ]
  },
  {
   "cell_type": "code",
   "execution_count": 14,
   "id": "2cb3a3ec-6412-43e1-b438-53ac755792b6",
   "metadata": {},
   "outputs": [],
   "source": [
    "#04 Try to convert the whole string into lower case\n",
    "\n"
   ]
  },
  {
   "cell_type": "code",
   "execution_count": 15,
   "id": "f0cc2ed0-3182-4bb7-b995-684f771dba05",
   "metadata": {},
   "outputs": [
    {
     "data": {
      "text/plain": [
       "'this is my first python programming'"
      ]
     },
     "execution_count": 15,
     "metadata": {},
     "output_type": "execute_result"
    }
   ],
   "source": [
    "s.lower()"
   ]
  },
  {
   "cell_type": "code",
   "execution_count": 16,
   "id": "4ea652c5-109e-48bf-9483-8283b7e9da29",
   "metadata": {},
   "outputs": [],
   "source": [
    "# 05 the Try to capitalize the whole string"
   ]
  },
  {
   "cell_type": "code",
   "execution_count": 17,
   "id": "0d963836-92c4-40a2-aa3b-2f2d506b3102",
   "metadata": {},
   "outputs": [
    {
     "data": {
      "text/plain": [
       "'This is my first python programming'"
      ]
     },
     "execution_count": 17,
     "metadata": {},
     "output_type": "execute_result"
    }
   ],
   "source": [
    "s.capitalize()"
   ]
  },
  {
   "cell_type": "code",
   "execution_count": 18,
   "id": "80042097-5125-483b-9992-c69c3e475b96",
   "metadata": {},
   "outputs": [],
   "source": [
    "# 06 Write the difference between isalnum() and isalpha()"
   ]
  },
  {
   "cell_type": "code",
   "execution_count": 19,
   "id": "ee907113-b721-4abc-9709-5092ad3d284c",
   "metadata": {},
   "outputs": [],
   "source": [
    "# isalnum() - This function checks that if all the charecters in the string are alphanumeric if yes it prints True else it prints False.\n",
    "# Note - Spaces in between alphanumeric charecters cause the output of the code to be False.\n",
    "\n",
    "# isalpha() - This function cheks that if all the charecters in the string are alphabets if yes it prints True else it prints False.\n",
    "# Note - Spaces in between alphabet charecters cause the output of the code to be False.\n"
   ]
  },
  {
   "cell_type": "code",
   "execution_count": 20,
   "id": "2f10680b-aba9-465d-8aab-05afdbfcacea",
   "metadata": {},
   "outputs": [],
   "source": [
    "# 07 Try to give an example of expand tab\n"
   ]
  },
  {
   "cell_type": "code",
   "execution_count": 22,
   "id": "96e28c86-a9fe-43cb-862c-b9a096a21cb7",
   "metadata": {},
   "outputs": [
    {
     "data": {
      "text/plain": [
       "'Hii     there   my      name    is      anupam, nice    to      meet    you     samartha!!'"
      ]
     },
     "execution_count": 22,
     "metadata": {},
     "output_type": "execute_result"
    }
   ],
   "source": [
    "# Example of expand tab function\n",
    "\n",
    "s2 = \"Hii\\tthere\\tmy\\tname\\tis\\tanupam,\\tnice\\tto\\tmeet\\tyou\\tsamartha!!\"\n",
    "\n",
    "s2.expandtabs()  # By default it is 8 spaces per tab.\n"
   ]
  },
  {
   "cell_type": "code",
   "execution_count": 24,
   "id": "989ae1ef-893b-4785-b21b-311f6116fa87",
   "metadata": {},
   "outputs": [
    {
     "data": {
      "text/plain": [
       "'Hii                 there               my                  name                is                  anupam,             nice                to                  meet                you                 samartha!!'"
      ]
     },
     "execution_count": 24,
     "metadata": {},
     "output_type": "execute_result"
    }
   ],
   "source": [
    "# But we can change it to our preference, for example -\n",
    "s2.expandtabs(20)\n"
   ]
  },
  {
   "cell_type": "code",
   "execution_count": 25,
   "id": "073099a7-8f49-4768-8044-41e236e1dbd1",
   "metadata": {},
   "outputs": [],
   "source": [
    "# 08 Give an example of strip, lstrip and rstrip.\n"
   ]
  },
  {
   "cell_type": "code",
   "execution_count": 26,
   "id": "97aef575-d0d1-4788-ad02-d5da6381524a",
   "metadata": {},
   "outputs": [
    {
     "data": {
      "text/plain": [
       "'Heyy!! Samartha'"
      ]
     },
     "execution_count": 26,
     "metadata": {},
     "output_type": "execute_result"
    }
   ],
   "source": [
    "# 1 - Example of strip:\n",
    "\n",
    "a = \"@@@2@Heyy!! Samartha@2@@@\"\n",
    "\n",
    "a.strip(\"@2\")  # Removes all @2 from both the sides\n"
   ]
  },
  {
   "cell_type": "code",
   "execution_count": 27,
   "id": "a15f5cf3-203e-4846-bd7d-12c666b644d7",
   "metadata": {},
   "outputs": [
    {
     "data": {
      "text/plain": [
       "'Heyy!! Samartha@2@@@'"
      ]
     },
     "execution_count": 27,
     "metadata": {},
     "output_type": "execute_result"
    }
   ],
   "source": [
    "# 2 - Example of lstrip:\n",
    "\n",
    "a1 = \"@@@22@Heyy!! Samartha@2@@@\"\n",
    "\n",
    "a1.lstrip(\"@2\")  # Removes all @2 only from the left side\n",
    "\n"
   ]
  },
  {
   "cell_type": "code",
   "execution_count": 28,
   "id": "8f6e7e83-6afb-4fba-be29-af74fe94a17d",
   "metadata": {},
   "outputs": [
    {
     "data": {
      "text/plain": [
       "'@@@2@Heyy!! Samartha'"
      ]
     },
     "execution_count": 28,
     "metadata": {},
     "output_type": "execute_result"
    }
   ],
   "source": [
    "# 3 - Example of rstrip\n",
    "\n",
    "a2 = \"@@@2@Heyy!! Samartha@222@@@\"\n",
    "\n",
    "a2.rstrip(\"@2\")  # Removes all @2 only from the right side\n"
   ]
  },
  {
   "cell_type": "code",
   "execution_count": 29,
   "id": "4af228bd-2233-477b-9081-5459891fe3b0",
   "metadata": {},
   "outputs": [],
   "source": [
    "# 09 Replace a string charecter by another charecter by taking your own example \"your name\"\n",
    "\n"
   ]
  },
  {
   "cell_type": "code",
   "execution_count": 30,
   "id": "ec8e737e-fa3e-4b25-9c47-0b7a4da378f8",
   "metadata": {},
   "outputs": [
    {
     "data": {
      "text/plain": [
       "'Samartha'"
      ]
     },
     "execution_count": 30,
     "metadata": {},
     "output_type": "execute_result"
    }
   ],
   "source": [
    "name = \"Anupam\"\n",
    "\n",
    "name.replace(\"Anupam\", \"Samartha\")\n"
   ]
  },
  {
   "cell_type": "code",
   "execution_count": 31,
   "id": "d26df03d-32cd-4951-8c6e-52fdc32cfac2",
   "metadata": {},
   "outputs": [
    {
     "data": {
      "text/plain": [
       "'Sampam'"
      ]
     },
     "execution_count": 31,
     "metadata": {},
     "output_type": "execute_result"
    }
   ],
   "source": [
    "name.replace(\"Anu\",\"Sam\")\n"
   ]
  },
  {
   "cell_type": "code",
   "execution_count": 32,
   "id": "8e13473f-41c8-4fef-a02a-10ff19a77c5e",
   "metadata": {},
   "outputs": [],
   "source": [
    "# 10 Try to give a definition of string center function with an example"
   ]
  },
  {
   "cell_type": "code",
   "execution_count": 33,
   "id": "5b10b36b-1cd5-4e6b-8e10-935d58683c04",
   "metadata": {},
   "outputs": [],
   "source": [
    "# Definition:\n",
    "\n",
    "# center() function is used to align the string in to the centre by adding Specified characters in both the sides of the string or with space by default,\n",
    "# then the string will have specified width  and if the total width is greater than the length of the string, the extra characters will be added equally \n",
    "# to both sides (or with one extra on either sides if the width is an odd number or string has odd number of charecters).\n"
   ]
  },
  {
   "cell_type": "code",
   "execution_count": 34,
   "id": "6c649286-b492-4b75-a226-0456d7b4c1b2",
   "metadata": {},
   "outputs": [
    {
     "data": {
      "text/plain": [
       "'**************************************************************Anupam**************************************************************'"
      ]
     },
     "execution_count": 34,
     "metadata": {},
     "output_type": "execute_result"
    }
   ],
   "source": [
    "# Example:\n",
    "\n",
    "b = \"Anupam\"\n",
    "\n",
    "b.center(130,\"*\")"
   ]
  },
  {
   "cell_type": "code",
   "execution_count": 35,
   "id": "276a3bee-5d5a-4948-8a36-caa601e61607",
   "metadata": {},
   "outputs": [
    {
     "data": {
      "text/plain": [
       "'*********************************************************Anupam*********************************************************'"
      ]
     },
     "execution_count": 35,
     "metadata": {},
     "output_type": "execute_result"
    }
   ],
   "source": [
    "b.center(120,\"*\")\n"
   ]
  },
  {
   "cell_type": "code",
   "execution_count": 36,
   "id": "e52f08ea-10b5-4379-8598-664303223cc0",
   "metadata": {},
   "outputs": [],
   "source": [
    "# 11 Write the definiton of compiler and interpretor in your own words.\n",
    "\n"
   ]
  },
  {
   "cell_type": "code",
   "execution_count": 37,
   "id": "c37f7212-b2a9-481b-96f2-737639e99675",
   "metadata": {},
   "outputs": [],
   "source": [
    " #Compiler - The code which we have written in the program gets converted into binary code(01) by the compiler because the computer knows only binary \n",
    "           # language. So basicaly compiler converts our code into binary code so that the code gets exicuted by the computer.\n",
    "\n"
   ]
  },
  {
   "cell_type": "code",
   "execution_count": 38,
   "id": "99cf8a4d-4e4d-46dd-ab13-7a4bae8d8e16",
   "metadata": {},
   "outputs": [],
   "source": [
    "# Interpretor - It reads our code line by line and executs it immediately in a sequence manner and interpriting the code at the run time.\n"
   ]
  },
  {
   "cell_type": "code",
   "execution_count": 39,
   "id": "762aa139-635f-4ae4-a9a0-4607b40af584",
   "metadata": {},
   "outputs": [],
   "source": [
    "# 12 Python is an interpreted of compiled language give clear ans.\n"
   ]
  },
  {
   "cell_type": "code",
   "execution_count": 40,
   "id": "1b5f4bd2-de38-4535-b6ac-03cacc25c133",
   "metadata": {},
   "outputs": [],
   "source": [
    "#  Python code is executed by an interpreter like CPython which reads and executes the code line by line at runtime. This is why Python \n",
    "#  is considered an interpreted language.\n"
   ]
  },
  {
   "cell_type": "code",
   "execution_count": 41,
   "id": "543e9432-a0d3-41cd-ae22-29085c5145e6",
   "metadata": {},
   "outputs": [],
   "source": [
    "# 13 Try to write a usecase of python with your understanding.\n",
    "\n"
   ]
  },
  {
   "cell_type": "code",
   "execution_count": null,
   "id": "252dc935-5911-41b9-99e3-5bbd38c35d40",
   "metadata": {},
   "outputs": [],
   "source": []
  }
 ],
 "metadata": {
  "kernelspec": {
   "display_name": "Python 3 (ipykernel)",
   "language": "python",
   "name": "python3"
  },
  "language_info": {
   "codemirror_mode": {
    "name": "ipython",
    "version": 3
   },
   "file_extension": ".py",
   "mimetype": "text/x-python",
   "name": "python",
   "nbconvert_exporter": "python",
   "pygments_lexer": "ipython3",
   "version": "3.12.4"
  }
 },
 "nbformat": 4,
 "nbformat_minor": 5
}
